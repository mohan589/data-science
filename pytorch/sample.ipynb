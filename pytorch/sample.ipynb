{
 "cells": [
  {
   "cell_type": "code",
   "execution_count": 1,
   "id": "40b61180-1fd9-421e-b549-07c48fe2ba23",
   "metadata": {},
   "outputs": [],
   "source": [
    "# Resource https://www.learnpytorch.io/00_pytorch_fundamentals/"
   ]
  },
  {
   "cell_type": "code",
   "execution_count": 6,
   "id": "0f012baa-893b-4626-9d8c-eb0288119599",
   "metadata": {},
   "outputs": [
    {
     "name": "stdout",
     "output_type": "stream",
     "text": [
      "2.4.1\n"
     ]
    }
   ],
   "source": [
    "import torch\n",
    "import pandas as pd\n",
    "import numpy as np\n",
    "import matplotlib.pyplot as plt\n",
    "print(torch.__version__)"
   ]
  },
  {
   "cell_type": "code",
   "execution_count": 100,
   "id": "b6459c39-5c25-40c1-9771-503cfb4fc2e1",
   "metadata": {},
   "outputs": [
    {
     "data": {
      "text/plain": [
       "tensor([[0.5055, 0.3590, 0.3339, 0.2354],\n",
       "        [0.5862, 0.3591, 0.2871, 0.0278],\n",
       "        [0.6963, 0.5218, 0.6517, 0.7639]])"
      ]
     },
     "execution_count": 100,
     "metadata": {},
     "output_type": "execute_result"
    }
   ],
   "source": [
    "tensor = torch.rand(3, 4)\n",
    "tensor"
   ]
  },
  {
   "cell_type": "code",
   "execution_count": 102,
   "id": "ec978fb6-22ac-42d1-8fc6-c08e0d7bfb49",
   "metadata": {},
   "outputs": [],
   "source": [
    "# Stack tensors on top of each other"
   ]
  },
  {
   "cell_type": "code",
   "execution_count": 104,
   "id": "16f2f209-cbfb-462c-8391-e2af851b8e9f",
   "metadata": {},
   "outputs": [
    {
     "data": {
      "text/plain": [
       "tensor([1., 2., 3., 4., 5., 6., 7., 8., 9.])"
      ]
     },
     "execution_count": 104,
     "metadata": {},
     "output_type": "execute_result"
    }
   ],
   "source": [
    "x = torch.arange(1., 10.)\n",
    "x"
   ]
  },
  {
   "cell_type": "code",
   "execution_count": 106,
   "id": "1791ab17-deaf-4b3a-8a5f-8f8fca6a64f5",
   "metadata": {},
   "outputs": [
    {
     "data": {
      "text/plain": [
       "(tensor([[1., 2., 3., 4., 5., 6., 7., 8., 9.]]), torch.Size([1, 9]))"
      ]
     },
     "execution_count": 106,
     "metadata": {},
     "output_type": "execute_result"
    }
   ],
   "source": [
    "z = x.view(1, 9)\n",
    "z, z.shape"
   ]
  },
  {
   "cell_type": "code",
   "execution_count": 108,
   "id": "4be1cad4-b249-49e4-9767-b95de6bdcf7f",
   "metadata": {},
   "outputs": [],
   "source": [
    "# Changing z changes x (because a view of a tensor shares the same memory as the original input)"
   ]
  },
  {
   "cell_type": "code",
   "execution_count": 110,
   "id": "83874177-6d6f-4aab-8590-8a4512d22b5b",
   "metadata": {},
   "outputs": [
    {
     "data": {
      "text/plain": [
       "tensor([5., 2., 3., 4., 5., 6., 7., 8., 9.])"
      ]
     },
     "execution_count": 110,
     "metadata": {},
     "output_type": "execute_result"
    }
   ],
   "source": [
    "z[:, 0] = 5\n",
    "z, x\n",
    "x_reshaped = x\n",
    "x_reshaped"
   ]
  },
  {
   "cell_type": "code",
   "execution_count": 112,
   "id": "7fdc0068-6e72-4950-879c-1a37901011c0",
   "metadata": {},
   "outputs": [],
   "source": [
    "# Stack tensors on top of each other"
   ]
  },
  {
   "cell_type": "code",
   "execution_count": 114,
   "id": "e3817ce3-195e-4315-ac52-0d9ab1bfb86a",
   "metadata": {},
   "outputs": [
    {
     "data": {
      "text/plain": [
       "tensor([[5., 2., 3., 4., 5., 6., 7., 8., 9.],\n",
       "        [5., 2., 3., 4., 5., 6., 7., 8., 9.],\n",
       "        [5., 2., 3., 4., 5., 6., 7., 8., 9.],\n",
       "        [5., 2., 3., 4., 5., 6., 7., 8., 9.]])"
      ]
     },
     "execution_count": 114,
     "metadata": {},
     "output_type": "execute_result"
    }
   ],
   "source": [
    "x_stacked = torch.stack([x, x, x, x], dim=0)\n",
    "x_stacked"
   ]
  },
  {
   "cell_type": "code",
   "execution_count": 116,
   "id": "395a52a7-5121-4532-8ee6-a7df53f35397",
   "metadata": {},
   "outputs": [
    {
     "data": {
      "text/plain": [
       "torch.Size([4, 9])"
      ]
     },
     "execution_count": 116,
     "metadata": {},
     "output_type": "execute_result"
    }
   ],
   "source": [
    "x_stacked.shape"
   ]
  },
  {
   "cell_type": "code",
   "execution_count": 118,
   "id": "906d606c-dc40-4dee-bc2e-47b0ab085f41",
   "metadata": {},
   "outputs": [
    {
     "data": {
      "text/plain": [
       "tensor([[5., 2., 3., 4., 5., 6., 7., 8., 9.],\n",
       "        [5., 2., 3., 4., 5., 6., 7., 8., 9.],\n",
       "        [5., 2., 3., 4., 5., 6., 7., 8., 9.],\n",
       "        [5., 2., 3., 4., 5., 6., 7., 8., 9.]])"
      ]
     },
     "execution_count": 118,
     "metadata": {},
     "output_type": "execute_result"
    }
   ],
   "source": [
    "# x_stacked = torch.stack([x, x, x, x], dim=1)\n",
    "x_stacked"
   ]
  },
  {
   "cell_type": "code",
   "execution_count": 120,
   "id": "625e0b06-fd21-4d79-a84a-233d8cd90058",
   "metadata": {},
   "outputs": [],
   "source": [
    "# torch.squeeze() - removes all signel dimensions from a target tensor"
   ]
  },
  {
   "cell_type": "code",
   "execution_count": 122,
   "id": "1c416f80-753b-4d9d-b3cc-d2f286b69696",
   "metadata": {},
   "outputs": [],
   "source": [
    "x = torch.zeros(2,1,2,1,2)"
   ]
  },
  {
   "cell_type": "code",
   "execution_count": 124,
   "id": "3bf4f891-4e87-47fe-81ae-a6c1ccdaa593",
   "metadata": {},
   "outputs": [
    {
     "data": {
      "text/plain": [
       "torch.Size([2, 1, 2, 1, 2])"
      ]
     },
     "execution_count": 124,
     "metadata": {},
     "output_type": "execute_result"
    }
   ],
   "source": [
    "x.size()"
   ]
  },
  {
   "cell_type": "code",
   "execution_count": 126,
   "id": "4c7fe972-914b-4bd0-836c-9c51d6eb7698",
   "metadata": {},
   "outputs": [
    {
     "data": {
      "text/plain": [
       "tensor([5., 2., 3., 4., 5., 6., 7., 8., 9.])"
      ]
     },
     "execution_count": 126,
     "metadata": {},
     "output_type": "execute_result"
    }
   ],
   "source": [
    "x_reshaped"
   ]
  },
  {
   "cell_type": "code",
   "execution_count": 128,
   "id": "271ea69e-cf89-4f84-bfeb-0d892d51714c",
   "metadata": {},
   "outputs": [
    {
     "data": {
      "text/plain": [
       "torch.Size([9])"
      ]
     },
     "execution_count": 128,
     "metadata": {},
     "output_type": "execute_result"
    }
   ],
   "source": [
    "x_reshaped.shape"
   ]
  },
  {
   "cell_type": "code",
   "execution_count": 130,
   "id": "bb32fecf-f928-4896-a706-07279e673a82",
   "metadata": {},
   "outputs": [
    {
     "data": {
      "text/plain": [
       "tensor([5., 2., 3., 4., 5., 6., 7., 8., 9.])"
      ]
     },
     "execution_count": 130,
     "metadata": {},
     "output_type": "execute_result"
    }
   ],
   "source": [
    "x_reshaped.squeeze()"
   ]
  },
  {
   "cell_type": "code",
   "execution_count": 132,
   "id": "6c569116-866b-4246-a190-167cdb44b0bd",
   "metadata": {},
   "outputs": [
    {
     "data": {
      "text/plain": [
       "torch.Size([9])"
      ]
     },
     "execution_count": 132,
     "metadata": {},
     "output_type": "execute_result"
    }
   ],
   "source": [
    "x_reshaped.squeeze().shape"
   ]
  },
  {
   "cell_type": "code",
   "execution_count": 136,
   "id": "e149a2bb-2fc8-4639-b92e-89ac07286c20",
   "metadata": {},
   "outputs": [
    {
     "name": "stdout",
     "output_type": "stream",
     "text": [
      "previous tensor : tensor([5., 2., 3., 4., 5., 6., 7., 8., 9.]) torch.Size([9])\n"
     ]
    }
   ],
   "source": [
    "print(f\"previous tensor : {x_reshaped} {x_reshaped.shape}\")"
   ]
  },
  {
   "cell_type": "code",
   "execution_count": 138,
   "id": "15a7e760-5be0-4f9e-9110-5e646ae3dc1e",
   "metadata": {},
   "outputs": [
    {
     "name": "stdout",
     "output_type": "stream",
     "text": [
      "previous tensor : tensor([5., 2., 3., 4., 5., 6., 7., 8., 9.]) torch.Size([9])\n"
     ]
    }
   ],
   "source": [
    "# Remote extra dimentions from x_reshaped\n",
    "x_squeezed = x_reshaped.squeeze()\n",
    "print(f\"previous tensor : {x_squeezed} {x_squeezed.shape}\")"
   ]
  },
  {
   "cell_type": "code",
   "execution_count": 158,
   "id": "3b506170-60ac-4bd1-bcbb-daca5c051dff",
   "metadata": {},
   "outputs": [
    {
     "data": {
      "text/plain": [
       "tensor([[5., 2., 3., 4., 5., 6., 7., 8., 9.]])"
      ]
     },
     "execution_count": 158,
     "metadata": {},
     "output_type": "execute_result"
    }
   ],
   "source": [
    "# UnSqueeze, adds single/extra dimention to a target tensor\n",
    "x_unsqueezed = x_squeezed.unsqueeze(dim=0)\n",
    "x_unsqueezed"
   ]
  },
  {
   "cell_type": "code",
   "execution_count": 160,
   "id": "50225cca-66d9-418f-9f00-afb84f7767d3",
   "metadata": {},
   "outputs": [
    {
     "data": {
      "text/plain": [
       "tensor([5., 2., 3., 4., 5., 6., 7., 8., 9.])"
      ]
     },
     "execution_count": 160,
     "metadata": {},
     "output_type": "execute_result"
    }
   ],
   "source": [
    "x_unsqueezed.squeeze()"
   ]
  },
  {
   "cell_type": "code",
   "execution_count": 162,
   "id": "0bfa80d8-c5f8-4319-aa03-3ad1bbcd24a0",
   "metadata": {},
   "outputs": [],
   "source": [
    "# torch permute, rearranges the dimensions of a target tensor in a specified order "
   ]
  },
  {
   "cell_type": "code",
   "execution_count": 166,
   "id": "6846b73b-a63a-4331-9f21-3a8873269fe0",
   "metadata": {},
   "outputs": [
    {
     "data": {
      "text/plain": [
       "tensor([[[0.6126, 0.1183, 0.7006],\n",
       "         [0.7714, 0.9695, 0.6598],\n",
       "         [0.5767, 0.5573, 0.0662],\n",
       "         ...,\n",
       "         [0.3464, 0.7585, 0.9757],\n",
       "         [0.1533, 0.3273, 0.5336],\n",
       "         [0.5136, 0.4688, 0.1998]],\n",
       "\n",
       "        [[0.3879, 0.0894, 0.5836],\n",
       "         [0.4260, 0.8265, 0.6197],\n",
       "         [0.6712, 0.6680, 0.3527],\n",
       "         ...,\n",
       "         [0.4735, 0.9866, 0.0812],\n",
       "         [0.1517, 0.8906, 0.6959],\n",
       "         [0.8489, 0.8399, 0.9329]],\n",
       "\n",
       "        [[0.8633, 0.7218, 0.7419],\n",
       "         [0.9804, 0.0216, 0.0588],\n",
       "         [0.9594, 0.9945, 0.3261],\n",
       "         ...,\n",
       "         [0.9660, 0.9889, 0.6794],\n",
       "         [0.9219, 0.2128, 0.5393],\n",
       "         [0.8330, 0.2532, 0.1187]],\n",
       "\n",
       "        ...,\n",
       "\n",
       "        [[0.6162, 0.5186, 0.8582],\n",
       "         [0.2484, 0.3044, 0.5830],\n",
       "         [0.0507, 0.7899, 0.8873],\n",
       "         ...,\n",
       "         [0.8011, 0.3310, 0.5569],\n",
       "         [0.8454, 0.6511, 0.5502],\n",
       "         [0.0622, 0.9741, 0.7125]],\n",
       "\n",
       "        [[0.1856, 0.0485, 0.1389],\n",
       "         [0.7379, 0.2530, 0.4741],\n",
       "         [0.8919, 0.6420, 0.3488],\n",
       "         ...,\n",
       "         [0.2564, 0.8715, 0.4731],\n",
       "         [0.7345, 0.1982, 0.0434],\n",
       "         [0.4726, 0.2908, 0.4181]],\n",
       "\n",
       "        [[0.6329, 0.4907, 0.8211],\n",
       "         [0.0171, 0.4829, 0.7466],\n",
       "         [0.6188, 0.9482, 0.8682],\n",
       "         ...,\n",
       "         [0.9763, 0.9013, 0.8211],\n",
       "         [0.8418, 0.9600, 0.9074],\n",
       "         [0.4260, 0.4938, 0.8850]]])"
      ]
     },
     "execution_count": 166,
     "metadata": {},
     "output_type": "execute_result"
    }
   ],
   "source": [
    "x_original = torch.rand(size=(224, 224, 3)) #{height width, colour_channels}\n",
    "x_original"
   ]
  },
  {
   "cell_type": "code",
   "execution_count": 178,
   "id": "235928df-457a-4c59-99db-c2e0a099c752",
   "metadata": {},
   "outputs": [
    {
     "data": {
      "text/plain": [
       "(torch.Size([224, 224, 3]), torch.Size([3, 224, 224]))"
      ]
     },
     "execution_count": 178,
     "metadata": {},
     "output_type": "execute_result"
    }
   ],
   "source": [
    "# permute the original tensor to rearrange the axis (or dim) order\n",
    "x_permuted = x_original.permute(2, 0, 1)\n",
    "x_original.shape, x_permuted.shape"
   ]
  },
  {
   "cell_type": "code",
   "execution_count": 180,
   "id": "35eb39f3-3ae5-4da7-b554-1f351edac11d",
   "metadata": {},
   "outputs": [],
   "source": [
    "x_original[:, :, 0] = 1"
   ]
  },
  {
   "cell_type": "code",
   "execution_count": 182,
   "id": "3ec45d0b-5d05-40bc-ab6e-ed0a9674c5fc",
   "metadata": {},
   "outputs": [
    {
     "data": {
      "text/plain": [
       "tensor([[[1.0000, 0.1183, 0.7006],\n",
       "         [1.0000, 0.9695, 0.6598],\n",
       "         [1.0000, 0.5573, 0.0662],\n",
       "         ...,\n",
       "         [1.0000, 0.7585, 0.9757],\n",
       "         [1.0000, 0.3273, 0.5336],\n",
       "         [1.0000, 0.4688, 0.1998]],\n",
       "\n",
       "        [[1.0000, 0.0894, 0.5836],\n",
       "         [1.0000, 0.8265, 0.6197],\n",
       "         [1.0000, 0.6680, 0.3527],\n",
       "         ...,\n",
       "         [1.0000, 0.9866, 0.0812],\n",
       "         [1.0000, 0.8906, 0.6959],\n",
       "         [1.0000, 0.8399, 0.9329]],\n",
       "\n",
       "        [[1.0000, 0.7218, 0.7419],\n",
       "         [1.0000, 0.0216, 0.0588],\n",
       "         [1.0000, 0.9945, 0.3261],\n",
       "         ...,\n",
       "         [1.0000, 0.9889, 0.6794],\n",
       "         [1.0000, 0.2128, 0.5393],\n",
       "         [1.0000, 0.2532, 0.1187]],\n",
       "\n",
       "        ...,\n",
       "\n",
       "        [[1.0000, 0.5186, 0.8582],\n",
       "         [1.0000, 0.3044, 0.5830],\n",
       "         [1.0000, 0.7899, 0.8873],\n",
       "         ...,\n",
       "         [1.0000, 0.3310, 0.5569],\n",
       "         [1.0000, 0.6511, 0.5502],\n",
       "         [1.0000, 0.9741, 0.7125]],\n",
       "\n",
       "        [[1.0000, 0.0485, 0.1389],\n",
       "         [1.0000, 0.2530, 0.4741],\n",
       "         [1.0000, 0.6420, 0.3488],\n",
       "         ...,\n",
       "         [1.0000, 0.8715, 0.4731],\n",
       "         [1.0000, 0.1982, 0.0434],\n",
       "         [1.0000, 0.2908, 0.4181]],\n",
       "\n",
       "        [[1.0000, 0.4907, 0.8211],\n",
       "         [1.0000, 0.4829, 0.7466],\n",
       "         [1.0000, 0.9482, 0.8682],\n",
       "         ...,\n",
       "         [1.0000, 0.9013, 0.8211],\n",
       "         [1.0000, 0.9600, 0.9074],\n",
       "         [1.0000, 0.4938, 0.8850]]])"
      ]
     },
     "execution_count": 182,
     "metadata": {},
     "output_type": "execute_result"
    }
   ],
   "source": [
    "x_original"
   ]
  },
  {
   "cell_type": "code",
   "execution_count": 184,
   "id": "1ba592d8-f2cd-4d1f-8d91-11d4a1eb36db",
   "metadata": {},
   "outputs": [
    {
     "data": {
      "text/plain": [
       "tensor([[[1.0000, 1.0000, 1.0000,  ..., 1.0000, 1.0000, 1.0000],\n",
       "         [1.0000, 1.0000, 1.0000,  ..., 1.0000, 1.0000, 1.0000],\n",
       "         [1.0000, 1.0000, 1.0000,  ..., 1.0000, 1.0000, 1.0000],\n",
       "         ...,\n",
       "         [1.0000, 1.0000, 1.0000,  ..., 1.0000, 1.0000, 1.0000],\n",
       "         [1.0000, 1.0000, 1.0000,  ..., 1.0000, 1.0000, 1.0000],\n",
       "         [1.0000, 1.0000, 1.0000,  ..., 1.0000, 1.0000, 1.0000]],\n",
       "\n",
       "        [[0.1183, 0.9695, 0.5573,  ..., 0.7585, 0.3273, 0.4688],\n",
       "         [0.0894, 0.8265, 0.6680,  ..., 0.9866, 0.8906, 0.8399],\n",
       "         [0.7218, 0.0216, 0.9945,  ..., 0.9889, 0.2128, 0.2532],\n",
       "         ...,\n",
       "         [0.5186, 0.3044, 0.7899,  ..., 0.3310, 0.6511, 0.9741],\n",
       "         [0.0485, 0.2530, 0.6420,  ..., 0.8715, 0.1982, 0.2908],\n",
       "         [0.4907, 0.4829, 0.9482,  ..., 0.9013, 0.9600, 0.4938]],\n",
       "\n",
       "        [[0.7006, 0.6598, 0.0662,  ..., 0.9757, 0.5336, 0.1998],\n",
       "         [0.5836, 0.6197, 0.3527,  ..., 0.0812, 0.6959, 0.9329],\n",
       "         [0.7419, 0.0588, 0.3261,  ..., 0.6794, 0.5393, 0.1187],\n",
       "         ...,\n",
       "         [0.8582, 0.5830, 0.8873,  ..., 0.5569, 0.5502, 0.7125],\n",
       "         [0.1389, 0.4741, 0.3488,  ..., 0.4731, 0.0434, 0.4181],\n",
       "         [0.8211, 0.7466, 0.8682,  ..., 0.8211, 0.9074, 0.8850]]])"
      ]
     },
     "execution_count": 184,
     "metadata": {},
     "output_type": "execute_result"
    }
   ],
   "source": [
    "x_permuted"
   ]
  },
  {
   "cell_type": "code",
   "execution_count": 190,
   "id": "67a346b6-2a9b-491a-9200-5e162f3b414e",
   "metadata": {},
   "outputs": [
    {
     "data": {
      "text/plain": [
       "(tensor(122323.), tensor(122323.))"
      ]
     },
     "execution_count": 190,
     "metadata": {},
     "output_type": "execute_result"
    }
   ],
   "source": [
    "x_original[0, 0, 0] = 122323\n",
    "x_original[0, 0, 0], x_permuted[0, 0, 0]"
   ]
  },
  {
   "cell_type": "code",
   "execution_count": 194,
   "id": "3397619a-1728-450c-9939-d9ebd28af54f",
   "metadata": {},
   "outputs": [],
   "source": [
    "## Indexing (selecting data from tensors), Indexing with pytorch is similar to indexing with numpy"
   ]
  },
  {
   "cell_type": "code",
   "execution_count": 198,
   "id": "848d9e05-bfb1-43e8-a8cc-a794a68bdc0e",
   "metadata": {},
   "outputs": [
    {
     "data": {
      "text/plain": [
       "tensor([[[1, 2, 3],\n",
       "         [4, 5, 6],\n",
       "         [7, 8, 9]]])"
      ]
     },
     "execution_count": 198,
     "metadata": {},
     "output_type": "execute_result"
    }
   ],
   "source": [
    "x = torch.arange(1, 10).reshape(1,3,3)\n",
    "x"
   ]
  },
  {
   "cell_type": "code",
   "execution_count": 200,
   "id": "f4297cec-8021-4e4f-933a-1b806bae2b74",
   "metadata": {},
   "outputs": [
    {
     "data": {
      "text/plain": [
       "(tensor([[[1, 2, 3],\n",
       "          [4, 5, 6],\n",
       "          [7, 8, 9]]]),\n",
       " torch.Size([1, 3, 3]))"
      ]
     },
     "execution_count": 200,
     "metadata": {},
     "output_type": "execute_result"
    }
   ],
   "source": [
    "x, x.shape"
   ]
  },
  {
   "cell_type": "code",
   "execution_count": 202,
   "id": "202e038d-6acb-4a83-92f6-43cf75cdf9cf",
   "metadata": {},
   "outputs": [],
   "source": [
    "# Let's index on our new tensor"
   ]
  },
  {
   "cell_type": "code",
   "execution_count": 204,
   "id": "efc39c61-d7f5-4184-aff5-78c0c3373629",
   "metadata": {},
   "outputs": [
    {
     "data": {
      "text/plain": [
       "tensor([[1, 2, 3],\n",
       "        [4, 5, 6],\n",
       "        [7, 8, 9]])"
      ]
     },
     "execution_count": 204,
     "metadata": {},
     "output_type": "execute_result"
    }
   ],
   "source": [
    "x[0]"
   ]
  },
  {
   "cell_type": "code",
   "execution_count": 206,
   "id": "e95a310c-f886-4b25-add6-d8b75643185a",
   "metadata": {},
   "outputs": [],
   "source": [
    "# Let's index on middle bracker, dim = 1"
   ]
  },
  {
   "cell_type": "code",
   "execution_count": 208,
   "id": "1ef97596-fcb4-4925-a2a9-0161bd318009",
   "metadata": {},
   "outputs": [
    {
     "data": {
      "text/plain": [
       "tensor([1, 2, 3])"
      ]
     },
     "execution_count": 208,
     "metadata": {},
     "output_type": "execute_result"
    }
   ],
   "source": [
    "x[0][0]"
   ]
  },
  {
   "cell_type": "code",
   "execution_count": 210,
   "id": "c3c8e1bd-6039-4cb6-ad12-19d4cd832636",
   "metadata": {},
   "outputs": [],
   "source": [
    "# Let's index on most inner bracker(last dimention)"
   ]
  },
  {
   "cell_type": "code",
   "execution_count": 214,
   "id": "3f80ef54-3661-48bd-b96a-f70b0e9d8914",
   "metadata": {},
   "outputs": [
    {
     "data": {
      "text/plain": [
       "tensor(2)"
      ]
     },
     "execution_count": 214,
     "metadata": {},
     "output_type": "execute_result"
    }
   ],
   "source": [
    "x[0][0][1]"
   ]
  },
  {
   "cell_type": "code",
   "execution_count": 216,
   "id": "937c6980-4178-4841-9b8a-4727ef655d84",
   "metadata": {},
   "outputs": [
    {
     "data": {
      "text/plain": [
       "tensor(9)"
      ]
     },
     "execution_count": 216,
     "metadata": {},
     "output_type": "execute_result"
    }
   ],
   "source": [
    "x[0][2][2]"
   ]
  },
  {
   "cell_type": "code",
   "execution_count": 218,
   "id": "89dc2b99-ee1c-4807-b6a1-beccf6b39161",
   "metadata": {},
   "outputs": [],
   "source": [
    "# You can also use \":\" to select \"all\" of a target dimension"
   ]
  },
  {
   "cell_type": "code",
   "execution_count": 220,
   "id": "ebec6649-4d65-4fc2-a5a7-b0d67645a435",
   "metadata": {},
   "outputs": [
    {
     "data": {
      "text/plain": [
       "tensor([[1, 2, 3]])"
      ]
     },
     "execution_count": 220,
     "metadata": {},
     "output_type": "execute_result"
    }
   ],
   "source": [
    "x[:, 0]"
   ]
  },
  {
   "cell_type": "code",
   "execution_count": 222,
   "id": "d268b02e-8fa8-4ea3-8c22-ce68eee30e66",
   "metadata": {},
   "outputs": [],
   "source": [
    "# Get all values of 0th and 1st dims but only index 1 of 2 dims"
   ]
  },
  {
   "cell_type": "code",
   "execution_count": 224,
   "id": "da453a51-9ecc-4ff6-8ebf-554a15c8ceb1",
   "metadata": {},
   "outputs": [
    {
     "data": {
      "text/plain": [
       "tensor([[2, 5, 8]])"
      ]
     },
     "execution_count": 224,
     "metadata": {},
     "output_type": "execute_result"
    }
   ],
   "source": [
    "x[:, :, 1]"
   ]
  },
  {
   "cell_type": "code",
   "execution_count": 226,
   "id": "3be38663-5346-4119-a1bb-73005dc383f7",
   "metadata": {},
   "outputs": [
    {
     "data": {
      "text/plain": [
       "tensor([[1, 4, 7]])"
      ]
     },
     "execution_count": 226,
     "metadata": {},
     "output_type": "execute_result"
    }
   ],
   "source": [
    "x[:, :, 0]"
   ]
  },
  {
   "cell_type": "code",
   "execution_count": 228,
   "id": "c6fbde49-558d-4da8-b50e-e6967fa72f9f",
   "metadata": {},
   "outputs": [],
   "source": [
    "# Get all values of the 0 dim but only the 1 index value of 1st and 2nd dim"
   ]
  },
  {
   "cell_type": "code",
   "execution_count": 246,
   "id": "c7e2ea82-91e6-48f2-9ee4-df94fc552eeb",
   "metadata": {},
   "outputs": [
    {
     "data": {
      "text/plain": [
       "tensor([5])"
      ]
     },
     "execution_count": 246,
     "metadata": {},
     "output_type": "execute_result"
    }
   ],
   "source": [
    "x[:, 1, 1]"
   ]
  },
  {
   "cell_type": "code",
   "execution_count": 248,
   "id": "75e9c694-7a72-4564-a7c6-5fc0f6d30898",
   "metadata": {},
   "outputs": [],
   "source": [
    "# Get index 0 of 0th and 1st dim and all values of 2nd dim"
   ]
  },
  {
   "cell_type": "code",
   "execution_count": 256,
   "id": "653b0db1-83f5-4f62-b516-a6930a5157be",
   "metadata": {},
   "outputs": [
    {
     "data": {
      "text/plain": [
       "tensor([1, 2, 3])"
      ]
     },
     "execution_count": 256,
     "metadata": {},
     "output_type": "execute_result"
    }
   ],
   "source": [
    "x[0, 0, :]"
   ]
  },
  {
   "cell_type": "code",
   "execution_count": 258,
   "id": "55b24dda-942a-423f-b443-26a592185ee8",
   "metadata": {},
   "outputs": [
    {
     "data": {
      "text/plain": [
       "tensor([4, 5, 6])"
      ]
     },
     "execution_count": 258,
     "metadata": {},
     "output_type": "execute_result"
    }
   ],
   "source": [
    "x[0, 1, :]"
   ]
  },
  {
   "cell_type": "code",
   "execution_count": 260,
   "id": "d96e0b71-0250-4aaa-b975-90cb95fb3903",
   "metadata": {},
   "outputs": [],
   "source": [
    "# Index on x to return 9\n",
    "# Index on x to reuturn 3, 6, 9"
   ]
  },
  {
   "cell_type": "code",
   "execution_count": 264,
   "id": "5ceb7f31-4dd1-436e-ba29-7f08b87f3c87",
   "metadata": {},
   "outputs": [
    {
     "data": {
      "text/plain": [
       "tensor([[[1, 2, 3],\n",
       "         [4, 5, 6],\n",
       "         [7, 8, 9]]])"
      ]
     },
     "execution_count": 264,
     "metadata": {},
     "output_type": "execute_result"
    }
   ],
   "source": [
    "x"
   ]
  },
  {
   "cell_type": "code",
   "execution_count": 266,
   "id": "8f5a874e-38e3-4cf4-b765-811d85e1e10b",
   "metadata": {},
   "outputs": [
    {
     "data": {
      "text/plain": [
       "tensor(9)"
      ]
     },
     "execution_count": 266,
     "metadata": {},
     "output_type": "execute_result"
    }
   ],
   "source": [
    "x[0, 2, 2]"
   ]
  },
  {
   "cell_type": "code",
   "execution_count": 274,
   "id": "4137c473-b02b-46d3-9d94-c3c70442cca1",
   "metadata": {},
   "outputs": [
    {
     "data": {
      "text/plain": [
       "tensor([[3, 6, 9]])"
      ]
     },
     "execution_count": 274,
     "metadata": {},
     "output_type": "execute_result"
    }
   ],
   "source": [
    "x[:, :, 2]"
   ]
  },
  {
   "cell_type": "code",
   "execution_count": 276,
   "id": "7d44d8db-c99d-420f-9f43-51577053637d",
   "metadata": {},
   "outputs": [],
   "source": [
    "# Pytorch tensos and Numpy\n",
    "# NumPy is a popular scientific python numerical computing library and because of this, \n",
    "# pytorch has functionality to interact with it"
   ]
  },
  {
   "cell_type": "code",
   "execution_count": 278,
   "id": "dc6ba464-3337-441a-8060-b23d1f8621cd",
   "metadata": {},
   "outputs": [],
   "source": [
    "# Data in NumPy, want in PyTorch tensor -> torch.from_numpy(ndarray)\n",
    "# PyTorch tensor -> NumPy -> torch.Tensor.numpy()"
   ]
  },
  {
   "cell_type": "code",
   "execution_count": 280,
   "id": "2c432ea3-416d-4b11-94f0-2f5b9749eb16",
   "metadata": {},
   "outputs": [],
   "source": [
    "# Numpy array to tensor"
   ]
  },
  {
   "cell_type": "code",
   "execution_count": 284,
   "id": "6b847b75-28b4-43b2-9740-dca1f082fdb2",
   "metadata": {},
   "outputs": [
    {
     "data": {
      "text/plain": [
       "(tensor([1., 2., 3., 4., 5., 6., 7.], dtype=torch.float64),\n",
       " array([1., 2., 3., 4., 5., 6., 7.]))"
      ]
     },
     "execution_count": 284,
     "metadata": {},
     "output_type": "execute_result"
    }
   ],
   "source": [
    "array = np.arange(1.0, 8.0)\n",
    "tensor = torch.from_numpy(array) # when converting from numpy -> torch, pytorch reflects numpy's default datatype of float 64 unless specified otherwise float 32\n",
    "tensor, array"
   ]
  },
  {
   "cell_type": "code",
   "execution_count": 286,
   "id": "cf39706b-c841-4f49-b4e0-aae779c250f3",
   "metadata": {},
   "outputs": [],
   "source": [
    "# Change the value of array, what will this do to tensor"
   ]
  },
  {
   "cell_type": "code",
   "execution_count": 292,
   "id": "dc6d2638-ebb5-46f8-8364-9d6fbc891f78",
   "metadata": {},
   "outputs": [
    {
     "data": {
      "text/plain": [
       "(array([3., 4., 5., 6., 7., 8., 9.]),\n",
       " tensor([1., 2., 3., 4., 5., 6., 7.], dtype=torch.float64))"
      ]
     },
     "execution_count": 292,
     "metadata": {},
     "output_type": "execute_result"
    }
   ],
   "source": [
    "array = array + 1\n",
    "array, tensor"
   ]
  },
  {
   "cell_type": "code",
   "execution_count": 295,
   "id": "73776354-65dc-4104-b1f8-8811793da203",
   "metadata": {},
   "outputs": [],
   "source": [
    "# Tensor to Numpy"
   ]
  },
  {
   "cell_type": "code",
   "execution_count": 299,
   "id": "f813f4c6-c63d-4b8d-8f8b-f9c365debc2d",
   "metadata": {},
   "outputs": [
    {
     "data": {
      "text/plain": [
       "tensor([1., 1., 1., 1., 1., 1., 1.])"
      ]
     },
     "execution_count": 299,
     "metadata": {},
     "output_type": "execute_result"
    }
   ],
   "source": [
    "tensor = torch.ones(7)\n",
    "tensor"
   ]
  },
  {
   "cell_type": "code",
   "execution_count": 301,
   "id": "59609d42-e764-4469-bc95-7fcdb6a7197d",
   "metadata": {},
   "outputs": [
    {
     "data": {
      "text/plain": [
       "(tensor([1., 1., 1., 1., 1., 1., 1.]),\n",
       " array([1., 1., 1., 1., 1., 1., 1.], dtype=float32))"
      ]
     },
     "execution_count": 301,
     "metadata": {},
     "output_type": "execute_result"
    }
   ],
   "source": [
    "numpy_tensor = tensor.numpy()\n",
    "tensor, numpy_tensor"
   ]
  },
  {
   "cell_type": "code",
   "execution_count": 303,
   "id": "35b92541-e3f3-442d-aba9-176f261d919f",
   "metadata": {},
   "outputs": [],
   "source": [
    "# Change the tensor, what happens to numpy_tensor"
   ]
  },
  {
   "cell_type": "code",
   "execution_count": 305,
   "id": "6f1552bc-8e8b-438f-8fbc-1657371331b2",
   "metadata": {},
   "outputs": [
    {
     "data": {
      "text/plain": [
       "(tensor([2., 2., 2., 2., 2., 2., 2.]),\n",
       " array([1., 1., 1., 1., 1., 1., 1.], dtype=float32))"
      ]
     },
     "execution_count": 305,
     "metadata": {},
     "output_type": "execute_result"
    }
   ],
   "source": [
    "tensor = tensor + 1\n",
    "tensor, numpy_tensor"
   ]
  },
  {
   "cell_type": "code",
   "execution_count": 309,
   "id": "cdb4e386-37c0-43f8-9635-ec7cfaaa9497",
   "metadata": {},
   "outputs": [],
   "source": [
    "# Reproducibility, trying to take the random out of random\n",
    "# IN showr thow a neural network, learns"
   ]
  },
  {
   "cell_type": "code",
   "execution_count": 311,
   "id": "039a1d7a-fa3e-4f10-8052-448411eb4033",
   "metadata": {},
   "outputs": [],
   "source": [
    "# Start with random numbers -> tensor operations -> update random numbers to try and make them of  better representations of the data -> again -> again -> again "
   ]
  },
  {
   "cell_type": "code",
   "execution_count": 318,
   "id": "3cada79c-372d-4034-9629-084d9ccfa04d",
   "metadata": {},
   "outputs": [
    {
     "data": {
      "text/plain": [
       "tensor([[0.1646, 0.8680, 0.0722],\n",
       "        [0.4151, 0.4354, 0.0995],\n",
       "        [0.6425, 0.1288, 0.6910]])"
      ]
     },
     "execution_count": 318,
     "metadata": {},
     "output_type": "execute_result"
    }
   ],
   "source": [
    "torch.rand(3, 3)"
   ]
  },
  {
   "cell_type": "code",
   "execution_count": 320,
   "id": "1a24f22d-f8af-478b-8e4d-6f68562e333d",
   "metadata": {},
   "outputs": [],
   "source": [
    " # To reduce the randomness in neural networks and PyTorch comes the concept of a \"Random Seed\""
   ]
  },
  {
   "cell_type": "code",
   "execution_count": 322,
   "id": "1e48e6aa-53d5-4712-af2c-a222102991d5",
   "metadata": {},
   "outputs": [],
   "source": [
    "# Create two random tensors"
   ]
  },
  {
   "cell_type": "code",
   "execution_count": 328,
   "id": "6a7b4a69-aedb-4c21-b216-a4f248fc84be",
   "metadata": {},
   "outputs": [
    {
     "name": "stdout",
     "output_type": "stream",
     "text": [
      "tensor([[0.6087, 0.8195, 0.4285, 0.2239],\n",
      "        [0.4620, 0.7238, 0.5150, 0.4032],\n",
      "        [0.0479, 0.6901, 0.1663, 0.2149]])\n",
      "tensor([[0.9452, 0.4584, 0.5908, 0.1907],\n",
      "        [0.2047, 0.2808, 0.8885, 0.3853],\n",
      "        [0.3294, 0.0947, 0.0587, 0.4122]])\n",
      "tensor([[False, False, False, False],\n",
      "        [False, False, False, False],\n",
      "        [False, False, False, False]])\n"
     ]
    }
   ],
   "source": [
    "random_tensor_a = torch.rand(3, 4)\n",
    "random_tensor_b = torch.rand(3, 4)\n",
    "print(random_tensor_a)\n",
    "print(random_tensor_b)\n",
    "print(random_tensor_a == random_tensor_b)"
   ]
  },
  {
   "cell_type": "code",
   "execution_count": 330,
   "id": "eedf7950-a6fe-4fe8-88ba-a413847b8f0f",
   "metadata": {},
   "outputs": [],
   "source": [
    "# Let's make some random but reproducibile tensors"
   ]
  },
  {
   "cell_type": "code",
   "execution_count": 340,
   "id": "70d0221d-87ff-4744-b265-d3f8a482b2cf",
   "metadata": {},
   "outputs": [
    {
     "name": "stdout",
     "output_type": "stream",
     "text": [
      "tensor([[0.8823, 0.9150, 0.3829, 0.9593],\n",
      "        [0.3904, 0.6009, 0.2566, 0.7936],\n",
      "        [0.9408, 0.1332, 0.9346, 0.5936]])\n",
      "tensor([[0.8823, 0.9150, 0.3829, 0.9593],\n",
      "        [0.3904, 0.6009, 0.2566, 0.7936],\n",
      "        [0.9408, 0.1332, 0.9346, 0.5936]])\n",
      "tensor([[True, True, True, True],\n",
      "        [True, True, True, True],\n",
      "        [True, True, True, True]])\n"
     ]
    }
   ],
   "source": [
    "# Set the random seed\n",
    "RANDOM_SEED = 42\n",
    "torch.manual_seed(RANDOM_SEED)\n",
    "random_tensor_C = torch.rand(3, 4)\n",
    "\n",
    "torch.manual_seed(RANDOM_SEED)\n",
    "random_tensor_D = torch.rand(3, 4)\n",
    "\n",
    "print(random_tensor_C)\n",
    "print(random_tensor_D)\n",
    "print(random_tensor_C == random_tensor_D)"
   ]
  },
  {
   "cell_type": "code",
   "execution_count": 343,
   "id": "1c1c2d5c-ad1b-4381-866b-382ac1e33617",
   "metadata": {},
   "outputs": [],
   "source": [
    "# Running tensors and PyTorch objects on the GPU's (and making faster computations)"
   ]
  },
  {
   "cell_type": "code",
   "execution_count": 347,
   "id": "26eb747f-a9cc-452a-aa3e-14472e86b8a3",
   "metadata": {},
   "outputs": [],
   "source": [
    "# CUDA, NVIDIA hardware + PyTorch working hebind the scenes to make everything hunky dory(good)"
   ]
  },
  {
   "cell_type": "code",
   "execution_count": 349,
   "id": "b5641f44-9807-4ae3-af54-9cefb7b73de8",
   "metadata": {},
   "outputs": [],
   "source": [
    "# 1. Google Colab is an options to use GPU\n",
    "# 2. Use own GPU, take littble bit of setup"
   ]
  },
  {
   "cell_type": "code",
   "execution_count": 19,
   "id": "35e000bd-e3f1-4b09-b1ab-1506839bef15",
   "metadata": {},
   "outputs": [
    {
     "name": "stdout",
     "output_type": "stream",
     "text": [
      "\n",
      "Devices:  [PhysicalDevice(name='/physical_device:CPU:0', device_type='CPU')]\n"
     ]
    }
   ],
   "source": [
    "import tensorflow as tf\n",
    "devices = tf.config.list_physical_devices()\n",
    "print(\"\\nDevices: \", devices)\n",
    "\n",
    "gpus = tf.config.list_physical_devices('GPU')\n",
    "if gpus:\n",
    "  details = tf.config.experimental.get_device_details(gpus[0])\n",
    "  print(\"GPU details: \", details)"
   ]
  },
  {
   "cell_type": "code",
   "execution_count": 21,
   "id": "cedf4124-459c-4292-a66f-a9e4a2a4e9f4",
   "metadata": {},
   "outputs": [
    {
     "name": "stdout",
     "output_type": "stream",
     "text": [
      "tensor([1.], device='mps:0')\n"
     ]
    }
   ],
   "source": [
    "import torch\n",
    "\n",
    "if torch.backends.mps.is_available():\n",
    "   mps_device = torch.device(\"mps\")\n",
    "   x = torch.ones(1, device=mps_device)\n",
    "   print (x)\n",
    "else:\n",
    "   print (\"MPS device not found.\")"
   ]
  },
  {
   "cell_type": "code",
   "execution_count": 27,
   "id": "8cfb980c-3004-47db-a263-1d8ef382ce8e",
   "metadata": {},
   "outputs": [
    {
     "name": "stdout",
     "output_type": "stream",
     "text": [
      "GPU Time:  0.15363001823425293\n"
     ]
    }
   ],
   "source": [
    "# GPU\n",
    "import time\n",
    "start_time = time.time()\n",
    "\n",
    "# syncrocnize time with cpu, otherwise only time for oflaoding data to gpu would be measured\n",
    "torch.mps.synchronize()\n",
    "\n",
    "a = torch.ones(4000,4000, device=\"mps\")\n",
    "for _ in range(200):\n",
    "   a +=a\n",
    "\n",
    "elapsed_time = time.time() - start_time\n",
    "print( \"GPU Time: \", elapsed_time)"
   ]
  },
  {
   "cell_type": "code",
   "execution_count": 30,
   "id": "0ff540ac-a025-417a-9dc9-cb9d495fa2e5",
   "metadata": {},
   "outputs": [
    {
     "data": {
      "text/plain": [
       "False"
      ]
     },
     "execution_count": 30,
     "metadata": {},
     "output_type": "execute_result"
    }
   ],
   "source": [
    "torch.cuda.is_available()"
   ]
  },
  {
   "cell_type": "code",
   "execution_count": 32,
   "id": "70bb8a6d-bc8f-4b06-894a-657e8511e72c",
   "metadata": {},
   "outputs": [],
   "source": [
    "# Setup Device agnostic code"
   ]
  },
  {
   "cell_type": "code",
   "execution_count": 36,
   "id": "a5d804ce-a941-42c1-9a3e-66215c056b66",
   "metadata": {},
   "outputs": [
    {
     "data": {
      "text/plain": [
       "'cpu'"
      ]
     },
     "execution_count": 36,
     "metadata": {},
     "output_type": "execute_result"
    }
   ],
   "source": [
    "device = \"cuda\" if torch.cuda.is_available() else \"cpu\"\n",
    "device"
   ]
  },
  {
   "cell_type": "code",
   "execution_count": 38,
   "id": "76d059b0-f078-4f30-b4da-64e27ee7ec42",
   "metadata": {},
   "outputs": [],
   "source": [
    "# Count number of devices"
   ]
  },
  {
   "cell_type": "code",
   "execution_count": 40,
   "id": "e0db5d76-fe38-4a36-95ba-36fe25657b4f",
   "metadata": {},
   "outputs": [
    {
     "data": {
      "text/plain": [
       "0"
      ]
     },
     "execution_count": 40,
     "metadata": {},
     "output_type": "execute_result"
    }
   ],
   "source": [
    "torch.cuda.device_count()"
   ]
  },
  {
   "cell_type": "code",
   "execution_count": 42,
   "id": "344c7c84-7cee-4f7a-8a99-61f434984528",
   "metadata": {},
   "outputs": [
    {
     "data": {
      "text/plain": [
       "True"
      ]
     },
     "execution_count": 42,
     "metadata": {},
     "output_type": "execute_result"
    }
   ],
   "source": [
    "torch.backends.mps.is_available()"
   ]
  },
  {
   "cell_type": "code",
   "execution_count": 46,
   "id": "6b283e5d-cc30-45ab-aa5a-9762c66116f2",
   "metadata": {},
   "outputs": [
    {
     "data": {
      "text/plain": [
       "'mps'"
      ]
     },
     "execution_count": 46,
     "metadata": {},
     "output_type": "execute_result"
    }
   ],
   "source": [
    "device = \"mps\" if torch.backends.mps.is_available() else \"cpu\"\n",
    "device"
   ]
  },
  {
   "cell_type": "code",
   "execution_count": 48,
   "id": "a0b308cc-0c0e-4183-8392-543bb38391a1",
   "metadata": {},
   "outputs": [],
   "source": [
    "# Putting tensors (and models) on the GPU or MPS"
   ]
  },
  {
   "cell_type": "code",
   "execution_count": 50,
   "id": "fd9a422e-2747-476c-9121-b50df01a38b0",
   "metadata": {},
   "outputs": [],
   "source": [
    "# Create a tensor (default on the CPU)"
   ]
  },
  {
   "cell_type": "code",
   "execution_count": 56,
   "id": "eb2e7315-e290-4384-813a-a6049f7cbf47",
   "metadata": {},
   "outputs": [
    {
     "data": {
      "text/plain": [
       "(tensor([1, 2, 3]), device(type='cpu'))"
      ]
     },
     "execution_count": 56,
     "metadata": {},
     "output_type": "execute_result"
    }
   ],
   "source": [
    "tensor = torch.tensor([1,2,3], device=\"cpu\") \n",
    "tensor, tensor.device"
   ]
  },
  {
   "cell_type": "code",
   "execution_count": 67,
   "id": "802385ce-25dc-42ee-9ef6-3aa0307b567b",
   "metadata": {},
   "outputs": [
    {
     "data": {
      "text/plain": [
       "(tensor([1, 2, 3], device='mps:0'), device(type='mps', index=0))"
      ]
     },
     "execution_count": 67,
     "metadata": {},
     "output_type": "execute_result"
    }
   ],
   "source": [
    "tensor = torch.tensor([1,2,3], device=\"mps\")\n",
    "tensor, tensor.device"
   ]
  },
  {
   "cell_type": "code",
   "execution_count": null,
   "id": "362bb9a8-6204-4812-afec-75d9a0eb70a4",
   "metadata": {},
   "outputs": [],
   "source": [
    "# move tensor to GPU or MPS"
   ]
  },
  {
   "cell_type": "code",
   "execution_count": 71,
   "id": "d639c449-3691-47a0-8add-4772d79451e3",
   "metadata": {},
   "outputs": [
    {
     "data": {
      "text/plain": [
       "tensor([1, 2, 3], device='mps:0')"
      ]
     },
     "execution_count": 71,
     "metadata": {},
     "output_type": "execute_result"
    }
   ],
   "source": [
    "tensor_on_gpu_or_mps = tensor.to(device)\n",
    "tensor_on_gpu_or_mps"
   ]
  },
  {
   "cell_type": "code",
   "execution_count": 73,
   "id": "ed9ec53d-af55-4677-8bf7-4c3848e5ae99",
   "metadata": {},
   "outputs": [],
   "source": [
    "# Moving tensor back to the CPU"
   ]
  },
  {
   "cell_type": "code",
   "execution_count": 75,
   "id": "ba09c3a6-2267-434e-a3a1-fc7051ec2ceb",
   "metadata": {},
   "outputs": [],
   "source": [
    "# If tensor is on GPU, can't transform it to NumPy"
   ]
  },
  {
   "cell_type": "code",
   "execution_count": 79,
   "id": "0fdea40d-6793-4143-a6f6-d4b5a2eb8df4",
   "metadata": {},
   "outputs": [
    {
     "ename": "TypeError",
     "evalue": "can't convert mps:0 device type tensor to numpy. Use Tensor.cpu() to copy the tensor to host memory first.",
     "output_type": "error",
     "traceback": [
      "\u001b[0;31m---------------------------------------------------------------------------\u001b[0m",
      "\u001b[0;31mTypeError\u001b[0m                                 Traceback (most recent call last)",
      "Cell \u001b[0;32mIn[79], line 1\u001b[0m\n\u001b[0;32m----> 1\u001b[0m tensor_on_gpu_or_mps\u001b[38;5;241m.\u001b[39mnumpy()\n",
      "\u001b[0;31mTypeError\u001b[0m: can't convert mps:0 device type tensor to numpy. Use Tensor.cpu() to copy the tensor to host memory first."
     ]
    }
   ],
   "source": [
    "tensor_on_gpu_or_mps.numpy()"
   ]
  },
  {
   "cell_type": "code",
   "execution_count": 81,
   "id": "8a4dc716-83f8-404b-b0d7-e40ff1958b8c",
   "metadata": {},
   "outputs": [],
   "source": [
    "# To fix the GPU/MPS tensor with NumPy issue, we can first set it to the CPU"
   ]
  },
  {
   "cell_type": "code",
   "execution_count": 87,
   "id": "f57f5bef-7caa-495c-b094-b5f456e5c521",
   "metadata": {},
   "outputs": [
    {
     "data": {
      "text/plain": [
       "array([1, 2, 3])"
      ]
     },
     "execution_count": 87,
     "metadata": {},
     "output_type": "execute_result"
    }
   ],
   "source": [
    "tensor_back_on_cpu = tensor_on_gpu_or_mps.cpu().numpy()\n",
    "tensor_back_on_cpu"
   ]
  },
  {
   "cell_type": "code",
   "execution_count": 89,
   "id": "0e8a2e90-e6c8-4a57-9a11-30030648ff02",
   "metadata": {},
   "outputs": [
    {
     "data": {
      "text/plain": [
       "tensor([1, 2, 3], device='mps:0')"
      ]
     },
     "execution_count": 89,
     "metadata": {},
     "output_type": "execute_result"
    }
   ],
   "source": [
    "tensor_on_gpu_or_mps"
   ]
  },
  {
   "cell_type": "code",
   "execution_count": null,
   "id": "8a8c00e4-eaac-410d-bd11-d44e9a5877f6",
   "metadata": {},
   "outputs": [],
   "source": []
  }
 ],
 "metadata": {
  "kernelspec": {
   "display_name": "Python 3 (ipykernel)",
   "language": "python",
   "name": "python3"
  },
  "language_info": {
   "codemirror_mode": {
    "name": "ipython",
    "version": 3
   },
   "file_extension": ".py",
   "mimetype": "text/x-python",
   "name": "python",
   "nbconvert_exporter": "python",
   "pygments_lexer": "ipython3",
   "version": "3.12.2"
  }
 },
 "nbformat": 4,
 "nbformat_minor": 5
}
